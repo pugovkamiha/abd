{
 "cells": [
  {
   "cell_type": "code",
   "execution_count": 2,
   "metadata": {
    "collapsed": true
   },
   "outputs": [
    {
     "name": "stdout",
     "output_type": "stream",
     "text": [
      "Requirement already satisfied: speedtest-cli in c:\\users\\slayr\\appdata\\local\\programs\\python\\python39\\lib\\site-packages (2.1.3)\n"
     ]
    }
   ],
   "source": [
    "# Code cell 1\n",
    "!pip install speedtest-cli"
   ]
  },
  {
   "cell_type": "code",
   "execution_count": 1,
   "metadata": {
    "collapsed": true
   },
   "outputs": [],
   "source": [
    "# Code cell 2\n",
    "# Python library to manage date and time data\n",
    "import datetime\n",
    "# Python library to read and write csv files\n",
    "import csv\n",
    "# Python library to execute bash commands from the notebook.\n",
    "import subprocess"
   ]
  },
  {
   "cell_type": "code",
   "execution_count": 2,
   "metadata": {
    "collapsed": true
   },
   "outputs": [
    {
     "name": "stdout",
     "output_type": "stream",
     "text": [
      "2021-04-24 23:17:01.806337 <class 'datetime.datetime'>\n"
     ]
    }
   ],
   "source": [
    "# Code cell 3\n",
    "date_time = datetime.datetime.now()\n",
    "print(date_time, type(date_time))"
   ]
  },
  {
   "cell_type": "code",
   "execution_count": 3,
   "metadata": {
    "collapsed": true
   },
   "outputs": [
    {
     "data": {
      "text/plain": "'Sat, 24 Apr 2021 23:17:01'"
     },
     "execution_count": 3,
     "metadata": {},
     "output_type": "execute_result"
    }
   ],
   "source": [
    "# Code cell 4\n",
    "date_time.strftime('%a, %d %b %Y %H:%M:%S')"
   ]
  },
  {
   "cell_type": "code",
   "execution_count": 4,
   "metadata": {
    "collapsed": true
   },
   "outputs": [],
   "source": [
    "# Code cell 6\n",
    "# This string contains the command line to interface with speedtest.net\n",
    "speedtest_cmd = \"speedtest-cli --simple\"\n",
    "# Execute the process\n",
    "process = subprocess.Popen(speedtest_cmd.split(), stdout=subprocess.PIPE)\n",
    "# Collect the command output\n",
    "process_output = process.communicate()[0]"
   ]
  },
  {
   "cell_type": "code",
   "execution_count": 5,
   "metadata": {
    "collapsed": true
   },
   "outputs": [
    {
     "name": "stdout",
     "output_type": "stream",
     "text": [
      "b'Ping: 5.166 ms\\r\\nDownload: 132.98 Mbit/s\\r\\nUpload: 270.88 Mbit/s\\r\\n' <class 'bytes'>\n"
     ]
    }
   ],
   "source": [
    "# Code cell 7\n",
    "print(process_output, type(process_output))"
   ]
  },
  {
   "cell_type": "code",
   "execution_count": 6,
   "metadata": {
    "collapsed": true
   },
   "outputs": [
    {
     "name": "stdout",
     "output_type": "stream",
     "text": [
      "[b'Ping:', b'5.166', b'ms', b'Download:', b'132.98', b'Mbit/s', b'Upload:', b'270.88', b'Mbit/s', '2021-04-24 23:17:38'] <class 'list'>\n"
     ]
    }
   ],
   "source": [
    "# Code cell 8\n",
    "# Store the time at which the speedtest was executed\n",
    "date_time = datetime.datetime.now().strftime(\"%Y-%m-%d %H:%M:%S\")\n",
    "process_output = process_output.split()\n",
    "process_output.append(date_time)\n",
    "print(process_output, type(process_output))"
   ]
  },
  {
   "cell_type": "code",
   "execution_count": 7,
   "metadata": {
    "collapsed": true
   },
   "outputs": [],
   "source": [
    "# Code cell 9\n",
    "# function to excute the speed test\n",
    "def speedtest():\n",
    "    # We need to store the time at which the speedtest was executed\n",
    "    date_time = datetime.datetime.now().strftime(\"%Y-%m-%d %H:%M:%S\")\n",
    "    # This is a string that contains what we would write on the command line \n",
    "    #to interface with speedtest.net\n",
    "    speedtest_cmd = \"speedtest-cli --simple\"\n",
    "    # We now execute the process: \n",
    "    process = subprocess.Popen(speedtest_cmd.split(), stdout=subprocess.PIPE)\n",
    "    process_output = process.communicate()[0]\n",
    "    process_output = process_output.split()\n",
    "    # and we add the date and time \n",
    "    process_output.append(date_time)\n",
    "    return process_output"
   ]
  },
  {
   "cell_type": "code",
   "execution_count": 8,
   "outputs": [
    {
     "data": {
      "text/plain": "[b'Ping:',\n b'5.743',\n b'ms',\n b'Download:',\n b'178.32',\n b'Mbit/s',\n b'Upload:',\n b'272.76',\n b'Mbit/s',\n '2021-04-24 23:17:51']"
     },
     "execution_count": 8,
     "metadata": {},
     "output_type": "execute_result"
    }
   ],
   "source": [
    "speedtest()\n"
   ],
   "metadata": {
    "collapsed": false,
    "pycharm": {
     "name": "#%%\n"
    }
   }
  },
  {
   "cell_type": "code",
   "execution_count": 9,
   "metadata": {
    "collapsed": true
   },
   "outputs": [],
   "source": [
    "# Code cell 11\n",
    "with open(\"./tmp/test.txt\",'w') as f:\n",
    "    f.write('test_msg')"
   ]
  },
  {
   "cell_type": "code",
   "execution_count": 10,
   "metadata": {
    "collapsed": true
   },
   "outputs": [
    {
     "name": "stdout",
     "output_type": "stream",
     "text": [
      "test_msg\n"
     ]
    }
   ],
   "source": [
    "# Code cell 12\n",
    "!type .\\tmp\\test.txt"
   ]
  },
  {
   "cell_type": "code",
   "execution_count": 11,
   "metadata": {
    "collapsed": true
   },
   "outputs": [
    {
     "name": "stdout",
     "output_type": "stream",
     "text": [
      "test_msg\n"
     ]
    }
   ],
   "source": [
    "# Code cell 13\n",
    "with open(\"./tmp/test.txt\",'r') as f:\n",
    "   str = f.read()\n",
    "print(str)"
   ]
  },
  {
   "cell_type": "code",
   "execution_count": 12,
   "metadata": {
    "collapsed": true
   },
   "outputs": [],
   "source": [
    "# Code cell 14\n",
    "# function to save data to csv\n",
    "def save_to_csv(data, filename):\n",
    "    try:\n",
    "        # If the file exists, we want to append a new line to it, with the \n",
    "        #results of the current experiment\n",
    "        with open(filename + '.csv', 'a') as f:\n",
    "            wr = csv.writer(f)\n",
    "            wr.writerow(data)\n",
    "    except:\n",
    "        # If it does not exist, create the file first\n",
    "        with open(filename + '.csv', 'w') as f:\n",
    "            wr = csv.writer(f)\n",
    "            wr.writerow(data)"
   ]
  },
  {
   "cell_type": "code",
   "execution_count": 13,
   "metadata": {
    "collapsed": true
   },
   "outputs": [],
   "source": [
    "# Code cell 15\n",
    "def print_from_csv(filename): \n",
    "    with open(filename + '.csv', 'r') as f:\n",
    "            re = csv.reader(f)\n",
    "            for row in re:\n",
    "                print(row)"
   ]
  },
  {
   "cell_type": "code",
   "execution_count": 16,
   "metadata": {
    "collapsed": true
   },
   "outputs": [
    {
     "name": "stdout",
     "output_type": "stream",
     "text": [
      "Test number 0\n",
      "[b'Ping:', b'11.219', b'ms', b'Download:', b'141.50', b'Mbit/s', b'Upload:', b'283.86', b'Mbit/s', '2021-04-24 23:21:36']\n",
      "Test number 1\n",
      "[b'Ping:', b'13.679', b'ms', b'Download:', b'899.44', b'Mbit/s', b'Upload:', b'292.59', b'Mbit/s', '2021-04-24 23:21:53']\n",
      "Test number 2\n",
      "[b'Ping:', b'5.301', b'ms', b'Download:', b'715.95', b'Mbit/s', b'Upload:', b'275.41', b'Mbit/s', '2021-04-24 23:22:03']\n",
      "Test number 3\n",
      "[b'Ping:', b'7.13', b'ms', b'Download:', b'172.92', b'Mbit/s', b'Upload:', b'248.52', b'Mbit/s', '2021-04-24 23:22:14']\n",
      "Test number 4\n",
      "[b'Ping:', b'9.862', b'ms', b'Download:', b'159.27', b'Mbit/s', b'Upload:', b'292.62', b'Mbit/s', '2021-04-24 23:22:31']\n"
     ]
    }
   ],
   "source": [
    "# Code cell 16\n",
    "for i in range(5):\n",
    "    speedtest_output = speedtest()\n",
    "    print('Test number {}'.format(i))\n",
    "    print(speedtest_output)\n",
    "    save_to_csv(speedtest_output, './tmp/rpi_data_test')"
   ]
  },
  {
   "cell_type": "code",
   "execution_count": 17,
   "metadata": {
    "collapsed": true
   },
   "outputs": [
    {
     "name": "stdout",
     "output_type": "stream",
     "text": [
      "[\"b'Ping:'\", \"b'11.219'\", \"b'ms'\", \"b'Download:'\", \"b'141.50'\", \"b'Mbit/s'\", \"b'Upload:'\", \"b'283.86'\", \"b'Mbit/s'\", '2021-04-24 23:21:36']\n",
      "[]\n",
      "[\"b'Ping:'\", \"b'13.679'\", \"b'ms'\", \"b'Download:'\", \"b'899.44'\", \"b'Mbit/s'\", \"b'Upload:'\", \"b'292.59'\", \"b'Mbit/s'\", '2021-04-24 23:21:53']\n",
      "[]\n",
      "[\"b'Ping:'\", \"b'5.301'\", \"b'ms'\", \"b'Download:'\", \"b'715.95'\", \"b'Mbit/s'\", \"b'Upload:'\", \"b'275.41'\", \"b'Mbit/s'\", '2021-04-24 23:22:03']\n",
      "[]\n",
      "[\"b'Ping:'\", \"b'7.13'\", \"b'ms'\", \"b'Download:'\", \"b'172.92'\", \"b'Mbit/s'\", \"b'Upload:'\", \"b'248.52'\", \"b'Mbit/s'\", '2021-04-24 23:22:14']\n",
      "[]\n",
      "[\"b'Ping:'\", \"b'9.862'\", \"b'ms'\", \"b'Download:'\", \"b'159.27'\", \"b'Mbit/s'\", \"b'Upload:'\", \"b'292.62'\", \"b'Mbit/s'\", '2021-04-24 23:22:31']\n",
      "[]\n"
     ]
    }
   ],
   "source": [
    "# Code cell 17\n",
    "print_from_csv('./tmp/rpi_data_test')"
   ]
  },
  {
   "cell_type": "code",
   "execution_count": 18,
   "metadata": {
    "collapsed": true
   },
   "outputs": [
    {
     "name": "stdout",
     "output_type": "stream",
     "text": [
      "Test number: 0\n",
      "[b'Ping:', b'3.787', b'ms', b'Download:', b'217.92', b'Mbit/s', b'Upload:', b'276.08', b'Mbit/s', '2021-04-24 23:24:53']\n",
      "Test number: 1\n",
      "[b'Ping:', b'7.752', b'ms', b'Download:', b'143.16', b'Mbit/s', b'Upload:', b'283.43', b'Mbit/s', '2021-04-24 23:25:10']\n",
      "Test number: 2\n",
      "[b'Ping:', b'10.07', b'ms', b'Download:', b'858.17', b'Mbit/s', b'Upload:', b'295.38', b'Mbit/s', '2021-04-24 23:25:27']\n",
      "Test number: 3\n",
      "[b'Ping:', b'7.897', b'ms', b'Download:', b'906.13', b'Mbit/s', b'Upload:', b'295.34', b'Mbit/s', '2021-04-24 23:25:37']\n",
      "Test number: 4\n",
      "[b'Ping:', b'3.376', b'ms', b'Download:', b'764.77', b'Mbit/s', b'Upload:', b'295.37', b'Mbit/s', '2021-04-24 23:25:47']\n",
      "Test number: 5\n",
      "[b'Ping:', b'8.005', b'ms', b'Download:', b'828.67', b'Mbit/s', b'Upload:', b'295.31', b'Mbit/s', '2021-04-24 23:25:57']\n",
      "Test number: 6\n",
      "[b'Ping:', b'7.906', b'ms', b'Download:', b'863.90', b'Mbit/s', b'Upload:', b'295.38', b'Mbit/s', '2021-04-24 23:26:07']\n",
      "Test number: 7\n",
      "[b'Ping:', b'8.571', b'ms', b'Download:', b'152.11', b'Mbit/s', b'Upload:', b'252.56', b'Mbit/s', '2021-04-24 23:26:17']\n",
      "Test number: 8\n",
      "[b'Ping:', b'7.933', b'ms', b'Download:', b'228.07', b'Mbit/s', b'Upload:', b'256.60', b'Mbit/s', '2021-04-24 23:26:35']\n",
      "Test number: 9\n",
      "[b'Ping:', b'6.501', b'ms', b'Download:', b'841.48', b'Mbit/s', b'Upload:', b'255.62', b'Mbit/s', '2021-04-24 23:26:52']\n",
      "Test number: 10\n",
      "[b'Ping:', b'14.531', b'ms', b'Download:', b'233.69', b'Mbit/s', b'Upload:', b'287.70', b'Mbit/s', '2021-04-24 23:27:02']\n",
      "Test number: 11\n",
      "[b'Ping:', b'7.101', b'ms', b'Download:', b'768.68', b'Mbit/s', b'Upload:', b'295.19', b'Mbit/s', '2021-04-24 23:27:19']\n",
      "Test number: 12\n",
      "[b'Ping:', b'7.467', b'ms', b'Download:', b'892.47', b'Mbit/s', b'Upload:', b'295.24', b'Mbit/s', '2021-04-24 23:27:30']\n",
      "Test number: 13\n",
      "[b'Ping:', b'9.228', b'ms', b'Download:', b'175.71', b'Mbit/s', b'Upload:', b'245.06', b'Mbit/s', '2021-04-24 23:27:40']\n",
      "Test number: 14\n",
      "[b'Ping:', b'4.394', b'ms', b'Download:', b'186.16', b'Mbit/s', b'Upload:', b'235.60', b'Mbit/s', '2021-04-24 23:27:57']\n",
      "Test number: 15\n",
      "[b'Ping:', b'7.165', b'ms', b'Download:', b'284.23', b'Mbit/s', b'Upload:', b'274.26', b'Mbit/s', '2021-04-24 23:28:15']\n",
      "Test number: 16\n",
      "[b'Ping:', b'10.838', b'ms', b'Download:', b'845.04', b'Mbit/s', b'Upload:', b'269.06', b'Mbit/s', '2021-04-24 23:28:31']\n",
      "Test number: 17\n",
      "[b'Ping:', b'9.7', b'ms', b'Download:', b'222.61', b'Mbit/s', b'Upload:', b'215.02', b'Mbit/s', '2021-04-24 23:28:42']\n",
      "Test number: 18\n",
      "[b'Ping:', b'6.347', b'ms', b'Download:', b'158.07', b'Mbit/s', b'Upload:', b'274.16', b'Mbit/s', '2021-04-24 23:29:00']\n",
      "Test number: 19\n",
      "[b'Ping:', b'11.036', b'ms', b'Download:', b'183.31', b'Mbit/s', b'Upload:', b'273.41', b'Mbit/s', '2021-04-24 23:29:18']\n",
      "Test number: 20\n",
      "[b'Ping:', b'6.311', b'ms', b'Download:', b'150.41', b'Mbit/s', b'Upload:', b'291.58', b'Mbit/s', '2021-04-24 23:29:35']\n",
      "Test number: 21\n",
      "[b'Ping:', b'9.509', b'ms', b'Download:', b'859.80', b'Mbit/s', b'Upload:', b'295.43', b'Mbit/s', '2021-04-24 23:29:51']\n",
      "Test number: 22\n",
      "['2021-04-24 23:30:02']\n",
      "Test number: 23\n",
      "['2021-04-24 23:30:07']\n",
      "Test number: 24\n",
      "[b'Ping:', b'7.667', b'ms', b'Download:', b'120.98', b'Mbit/s', b'Upload:', b'282.94', b'Mbit/s', '2021-04-24 23:30:13']\n",
      "Test number: 25\n",
      "[b'Ping:', b'8.092', b'ms', b'Download:', b'820.31', b'Mbit/s', b'Upload:', b'295.40', b'Mbit/s', '2021-04-24 23:30:29']\n",
      "Test number: 26\n",
      "[b'Ping:', b'14.471', b'ms', b'Download:', b'870.88', b'Mbit/s', b'Upload:', b'275.30', b'Mbit/s', '2021-04-24 23:30:39']\n",
      "Test number: 27\n",
      "[b'Ping:', b'9.797', b'ms', b'Download:', b'160.01', b'Mbit/s', b'Upload:', b'266.08', b'Mbit/s', '2021-04-24 23:30:50']\n",
      "Test number: 28\n",
      "[b'Ping:', b'9.135', b'ms', b'Download:', b'156.43', b'Mbit/s', b'Upload:', b'267.32', b'Mbit/s', '2021-04-24 23:31:07']\n",
      "Test number: 29\n",
      "[b'Ping:', b'4.057', b'ms', b'Download:', b'851.35', b'Mbit/s', b'Upload:', b'282.09', b'Mbit/s', '2021-04-24 23:31:24']\n",
      "Test number: 30\n",
      "[b'Ping:', b'13.042', b'ms', b'Download:', b'772.94', b'Mbit/s', b'Upload:', b'279.88', b'Mbit/s', '2021-04-24 23:31:34']\n",
      "Test number: 31\n",
      "[b'Ping:', b'9.571', b'ms', b'Download:', b'870.91', b'Mbit/s', b'Upload:', b'295.36', b'Mbit/s', '2021-04-24 23:31:45']\n",
      "Test number: 32\n",
      "[b'Ping:', b'4.471', b'ms', b'Download:', b'134.49', b'Mbit/s', b'Upload:', b'279.01', b'Mbit/s', '2021-04-24 23:31:55']\n",
      "Test number: 33\n",
      "[b'Ping:', b'9.25', b'ms', b'Download:', b'178.66', b'Mbit/s', b'Upload:', b'274.86', b'Mbit/s', '2021-04-24 23:32:11']\n",
      "Test number: 34\n",
      "[b'Ping:', b'8.021', b'ms', b'Download:', b'134.32', b'Mbit/s', b'Upload:', b'244.40', b'Mbit/s', '2021-04-24 23:32:28']\n",
      "Test number: 35\n",
      "[b'Ping:', b'8.602', b'ms', b'Download:', b'209.05', b'Mbit/s', b'Upload:', b'228.75', b'Mbit/s', '2021-04-24 23:32:45']\n",
      "Test number: 36\n",
      "[b'Ping:', b'6.956', b'ms', b'Download:', b'847.38', b'Mbit/s', b'Upload:', b'295.31', b'Mbit/s', '2021-04-24 23:33:03']\n",
      "Test number: 37\n",
      "[b'Ping:', b'9.302', b'ms', b'Download:', b'751.47', b'Mbit/s', b'Upload:', b'284.07', b'Mbit/s', '2021-04-24 23:33:13']\n",
      "Test number: 38\n",
      "[b'Ping:', b'8.925', b'ms', b'Download:', b'210.15', b'Mbit/s', b'Upload:', b'260.55', b'Mbit/s', '2021-04-24 23:33:24']\n",
      "Test number: 39\n",
      "[b'Ping:', b'14.42', b'ms', b'Download:', b'149.30', b'Mbit/s', b'Upload:', b'273.10', b'Mbit/s', '2021-04-24 23:33:40']\n",
      "Test number: 40\n",
      "[b'Ping:', b'4.189', b'ms', b'Download:', b'839.02', b'Mbit/s', b'Upload:', b'287.60', b'Mbit/s', '2021-04-24 23:33:57']\n",
      "Test number: 41\n",
      "[b'Ping:', b'8.705', b'ms', b'Download:', b'130.35', b'Mbit/s', b'Upload:', b'273.40', b'Mbit/s', '2021-04-24 23:34:08']\n",
      "Test number: 42\n",
      "[b'Ping:', b'10.571', b'ms', b'Download:', b'186.51', b'Mbit/s', b'Upload:', b'267.52', b'Mbit/s', '2021-04-24 23:34:25']\n",
      "Test number: 43\n",
      "[b'Ping:', b'8.251', b'ms', b'Download:', b'152.51', b'Mbit/s', b'Upload:', b'231.17', b'Mbit/s', '2021-04-24 23:34:42']\n",
      "Test number: 44\n",
      "[b'Ping:', b'8.11', b'ms', b'Download:', b'167.75', b'Mbit/s', b'Upload:', b'283.85', b'Mbit/s', '2021-04-24 23:34:59']\n",
      "Test number: 45\n",
      "[b'Ping:', b'12.137', b'ms', b'Download:', b'201.20', b'Mbit/s', b'Upload:', b'222.44', b'Mbit/s', '2021-04-24 23:35:16']\n",
      "Test number: 46\n",
      "[b'Ping:', b'13.617', b'ms', b'Download:', b'221.68', b'Mbit/s', b'Upload:', b'219.86', b'Mbit/s', '2021-04-24 23:35:34']\n",
      "Test number: 47\n",
      "[b'Ping:', b'9.118', b'ms', b'Download:', b'907.74', b'Mbit/s', b'Upload:', b'295.42', b'Mbit/s', '2021-04-24 23:35:52']\n",
      "Test number: 48\n",
      "[b'Ping:', b'9.118', b'ms', b'Download:', b'202.67', b'Mbit/s', b'Upload:', b'288.22', b'Mbit/s', '2021-04-24 23:36:01']\n",
      "Test number: 49\n",
      "[b'Ping:', b'7.413', b'ms', b'Download:', b'879.17', b'Mbit/s', b'Upload:', b'295.47', b'Mbit/s', '2021-04-24 23:36:18']\n",
      "Test number: 50\n",
      "[b'Ping:', b'10.835', b'ms', b'Download:', b'907.48', b'Mbit/s', b'Upload:', b'295.40', b'Mbit/s', '2021-04-24 23:36:28']\n",
      "Test number: 51\n",
      "[b'Ping:', b'11.374', b'ms', b'Download:', b'880.68', b'Mbit/s', b'Upload:', b'295.38', b'Mbit/s', '2021-04-24 23:36:38']\n",
      "Test number: 52\n",
      "[b'Ping:', b'10.208', b'ms', b'Download:', b'796.98', b'Mbit/s', b'Upload:', b'294.98', b'Mbit/s', '2021-04-24 23:36:48']\n",
      "Test number: 53\n",
      "[b'Ping:', b'6.751', b'ms', b'Download:', b'848.59', b'Mbit/s', b'Upload:', b'294.73', b'Mbit/s', '2021-04-24 23:36:59']\n",
      "Test number: 54\n",
      "[b'Ping:', b'8.163', b'ms', b'Download:', b'820.29', b'Mbit/s', b'Upload:', b'295.44', b'Mbit/s', '2021-04-24 23:37:09']\n",
      "Test number: 55\n",
      "[b'Ping:', b'10.454', b'ms', b'Download:', b'885.81', b'Mbit/s', b'Upload:', b'295.44', b'Mbit/s', '2021-04-24 23:37:19']\n",
      "Test number: 56\n",
      "[b'Ping:', b'8.399', b'ms', b'Download:', b'225.50', b'Mbit/s', b'Upload:', b'266.60', b'Mbit/s', '2021-04-24 23:37:29']\n",
      "Test number: 57\n",
      "[b'Ping:', b'9.844', b'ms', b'Download:', b'863.90', b'Mbit/s', b'Upload:', b'295.35', b'Mbit/s', '2021-04-24 23:37:46']\n",
      "Test number: 58\n",
      "[b'Ping:', b'11.721', b'ms', b'Download:', b'208.64', b'Mbit/s', b'Upload:', b'272.84', b'Mbit/s', '2021-04-24 23:37:56']\n",
      "Test number: 59\n",
      "[b'Ping:', b'5.906', b'ms', b'Download:', b'253.94', b'Mbit/s', b'Upload:', b'281.70', b'Mbit/s', '2021-04-24 23:38:13']\n",
      "Test number: 60\n",
      "[b'Ping:', b'7.45', b'ms', b'Download:', b'899.39', b'Mbit/s', b'Upload:', b'292.04', b'Mbit/s', '2021-04-24 23:38:30']\n",
      "Test number: 61\n",
      "[b'Ping:', b'11.127', b'ms', b'Download:', b'172.63', b'Mbit/s', b'Upload:', b'291.03', b'Mbit/s', '2021-04-24 23:38:40']\n",
      "Test number: 62\n",
      "[b'Ping:', b'9.159', b'ms', b'Download:', b'195.19', b'Mbit/s', b'Upload:', b'294.85', b'Mbit/s', '2021-04-24 23:38:57']\n",
      "Test number: 63\n",
      "[b'Ping:', b'14.582', b'ms', b'Download:', b'158.86', b'Mbit/s', b'Upload:', b'289.04', b'Mbit/s', '2021-04-24 23:39:15']\n",
      "Test number: 64\n",
      "[b'Ping:', b'9.82', b'ms', b'Download:', b'283.21', b'Mbit/s', b'Upload:', b'295.21', b'Mbit/s', '2021-04-24 23:39:33']\n",
      "Test number: 65\n",
      "[b'Ping:', b'7.021', b'ms', b'Download:', b'243.24', b'Mbit/s', b'Upload:', b'277.18', b'Mbit/s', '2021-04-24 23:39:50']\n",
      "Test number: 66\n",
      "[b'Ping:', b'13.582', b'ms', b'Download:', b'881.80', b'Mbit/s', b'Upload:', b'295.40', b'Mbit/s', '2021-04-24 23:40:07']\n",
      "Test number: 67\n",
      "[b'Ping:', b'11.139', b'ms', b'Download:', b'202.17', b'Mbit/s', b'Upload:', b'259.77', b'Mbit/s', '2021-04-24 23:40:17']\n",
      "Test number: 68\n",
      "[b'Ping:', b'6.459', b'ms', b'Download:', b'179.41', b'Mbit/s', b'Upload:', b'140.90', b'Mbit/s', '2021-04-24 23:40:34']\n",
      "Test number: 69\n",
      "[b'Ping:', b'8.596', b'ms', b'Download:', b'324.01', b'Mbit/s', b'Upload:', b'260.32', b'Mbit/s', '2021-04-24 23:40:55']\n",
      "Test number: 70\n",
      "[b'Ping:', b'11.321', b'ms', b'Download:', b'318.43', b'Mbit/s', b'Upload:', b'254.29', b'Mbit/s', '2021-04-24 23:41:12']\n",
      "Test number: 71\n",
      "[b'Ping:', b'6.59', b'ms', b'Download:', b'907.87', b'Mbit/s', b'Upload:', b'295.45', b'Mbit/s', '2021-04-24 23:41:29']\n",
      "Test number: 72\n",
      "[b'Ping:', b'6.886', b'ms', b'Download:', b'839.09', b'Mbit/s', b'Upload:', b'295.38', b'Mbit/s', '2021-04-24 23:41:39']\n",
      "Test number: 73\n",
      "[b'Ping:', b'9.068', b'ms', b'Download:', b'71.74', b'Mbit/s', b'Upload:', b'284.14', b'Mbit/s', '2021-04-24 23:41:49']\n",
      "Test number: 74\n",
      "[b'Ping:', b'9.209', b'ms', b'Download:', b'837.45', b'Mbit/s', b'Upload:', b'295.47', b'Mbit/s', '2021-04-24 23:42:06']\n",
      "Test number: 75\n",
      "[b'Ping:', b'9.341', b'ms', b'Download:', b'829.92', b'Mbit/s', b'Upload:', b'295.44', b'Mbit/s', '2021-04-24 23:42:16']\n",
      "Test number: 76\n",
      "[b'Ping:', b'9.904', b'ms', b'Download:', b'867.60', b'Mbit/s', b'Upload:', b'295.38', b'Mbit/s', '2021-04-24 23:42:26']\n",
      "Test number: 77\n",
      "[b'Ping:', b'6.985', b'ms', b'Download:', b'852.18', b'Mbit/s', b'Upload:', b'295.37', b'Mbit/s', '2021-04-24 23:42:36']\n",
      "Test number: 78\n",
      "[b'Ping:', b'8.985', b'ms', b'Download:', b'89.55', b'Mbit/s', b'Upload:', b'251.41', b'Mbit/s', '2021-04-24 23:42:47']\n",
      "Test number: 79\n",
      "[b'Ping:', b'13.043', b'ms', b'Download:', b'894.70', b'Mbit/s', b'Upload:', b'266.99', b'Mbit/s', '2021-04-24 23:43:04']\n",
      "Test number: 80\n",
      "[b'Ping:', b'11.432', b'ms', b'Download:', b'893.17', b'Mbit/s', b'Upload:', b'295.47', b'Mbit/s', '2021-04-24 23:43:14']\n",
      "Test number: 81\n",
      "[b'Ping:', b'10.377', b'ms', b'Download:', b'867.78', b'Mbit/s', b'Upload:', b'266.58', b'Mbit/s', '2021-04-24 23:43:24']\n",
      "Test number: 82\n",
      "[b'Ping:', b'8.354', b'ms', b'Download:', b'95.54', b'Mbit/s', b'Upload:', b'256.34', b'Mbit/s', '2021-04-24 23:43:35']\n",
      "Test number: 83\n",
      "[b'Ping:', b'3.857', b'ms', b'Download:', b'881.21', b'Mbit/s', b'Upload:', b'293.20', b'Mbit/s', '2021-04-24 23:43:53']\n",
      "Test number: 84\n",
      "[b'Ping:', b'5.09', b'ms', b'Download:', b'61.83', b'Mbit/s', b'Upload:', b'271.96', b'Mbit/s', '2021-04-24 23:44:03']\n",
      "Test number: 85\n",
      "[b'Ping:', b'8.346', b'ms', b'Download:', b'866.23', b'Mbit/s', b'Upload:', b'295.41', b'Mbit/s', '2021-04-24 23:44:25']\n",
      "Test number: 86\n",
      "[b'Ping:', b'7.085', b'ms', b'Download:', b'124.72', b'Mbit/s', b'Upload:', b'259.39', b'Mbit/s', '2021-04-24 23:44:36']\n",
      "Test number: 87\n",
      "[b'Ping:', b'6.412', b'ms', b'Download:', b'736.45', b'Mbit/s', b'Upload:', b'295.14', b'Mbit/s', '2021-04-24 23:44:53']\n",
      "Test number: 88\n",
      "[b'Ping:', b'9.149', b'ms', b'Download:', b'101.39', b'Mbit/s', b'Upload:', b'279.71', b'Mbit/s', '2021-04-24 23:45:03']\n",
      "Test number: 89\n",
      "[b'Ping:', b'11.735', b'ms', b'Download:', b'873.10', b'Mbit/s', b'Upload:', b'283.50', b'Mbit/s', '2021-04-24 23:45:20']\n",
      "Test number: 90\n",
      "[b'Ping:', b'6.049', b'ms', b'Download:', b'826.94', b'Mbit/s', b'Upload:', b'294.98', b'Mbit/s', '2021-04-24 23:45:30']\n",
      "Test number: 91\n",
      "[b'Ping:', b'10.567', b'ms', b'Download:', b'38.82', b'Mbit/s', b'Upload:', b'270.94', b'Mbit/s', '2021-04-24 23:45:41']\n",
      "Test number: 92\n",
      "[b'Ping:', b'9.1', b'ms', b'Download:', b'877.24', b'Mbit/s', b'Upload:', b'295.03', b'Mbit/s', '2021-04-24 23:45:57']\n",
      "Test number: 93\n",
      "[b'Ping:', b'9.172', b'ms', b'Download:', b'106.19', b'Mbit/s', b'Upload:', b'269.11', b'Mbit/s', '2021-04-24 23:46:07']\n",
      "Test number: 94\n",
      "[b'Ping:', b'3.782', b'ms', b'Download:', b'87.55', b'Mbit/s', b'Upload:', b'290.07', b'Mbit/s', '2021-04-24 23:46:24']\n",
      "Test number: 95\n",
      "[b'Ping:', b'7.797', b'ms', b'Download:', b'100.16', b'Mbit/s', b'Upload:', b'274.27', b'Mbit/s', '2021-04-24 23:46:43']\n",
      "Test number: 96\n",
      "[b'Ping:', b'10.191', b'ms', b'Download:', b'89.04', b'Mbit/s', b'Upload:', b'287.55', b'Mbit/s', '2021-04-24 23:47:01']\n",
      "Test number: 97\n",
      "[b'Ping:', b'3.837', b'ms', b'Download:', b'910.67', b'Mbit/s', b'Upload:', b'295.39', b'Mbit/s', '2021-04-24 23:47:18']\n",
      "Test number: 98\n",
      "[b'Ping:', b'9.475', b'ms', b'Download:', b'892.91', b'Mbit/s', b'Upload:', b'295.42', b'Mbit/s', '2021-04-24 23:47:28']\n",
      "Test number: 99\n",
      "[b'Ping:', b'7.189', b'ms', b'Download:', b'883.14', b'Mbit/s', b'Upload:', b'295.35', b'Mbit/s', '2021-04-24 23:47:38']\n"
     ]
    }
   ],
   "source": [
    "# Code cell 18\n",
    "# Code to run 100 times\n",
    "for i in range(100):\n",
    "    speedtest_output = speedtest()\n",
    "    print('Test number: {}'.format(i))\n",
    "    print(speedtest_output)\n",
    "    save_to_csv(speedtest_output, './tmp/rpi_data')"
   ]
  },
  {
   "cell_type": "code",
   "execution_count": 19,
   "metadata": {
    "collapsed": true
   },
   "outputs": [],
   "source": [
    "# Code cell 19\n",
    "import datetime\n",
    "import csv\n",
    "import pandas as pd\n",
    "import numpy as np"
   ]
  },
  {
   "cell_type": "code",
   "execution_count": 21,
   "metadata": {
    "collapsed": true
   },
   "outputs": [],
   "source": [
    "# Code cell 20\n",
    "data_file = './Data/rpi_data_long.csv'"
   ]
  },
  {
   "cell_type": "code",
   "execution_count": 28,
   "metadata": {
    "collapsed": true,
    "scrolled": true
   },
   "outputs": [
    {
     "name": "stdout",
     "output_type": "stream",
     "text": [
      "b'Ping:',b'3.787',b'ms',b'Download:',b'217.92',b'Mbit/s',b'Upload:',b'276.08',b'Mbit/s',2021-04-24 23:24:53\n",
      "\n",
      "b'Ping:',b'7.752',b'ms',b'Download:',b'143.16',b'Mbit/s',b'Upload:',b'283.43',b'Mbit/s',2021-04-24 23:25:10\n",
      "\n",
      "b'Ping:',b'10.07',b'ms',b'Download:',b'858.17',b'Mbit/s',b'Upload:',b'295.38',b'Mbit/s',2021-04-24 23:25:27\n",
      "\n",
      "b'Ping:',b'7.897',b'ms',b'Download:',b'906.13',b'Mbit/s',b'Upload:',b'295.34',b'Mbit/s',2021-04-24 23:25:37\n",
      "\n",
      "b'Ping:',b'3.376',b'ms',b'Download:',b'764.77',b'Mbit/s',b'Upload:',b'295.37',b'Mbit/s',2021-04-24 23:25:47\n",
      "\n",
      "b'Ping:',b'8.005',b'ms',b'Download:',b'828.67',b'Mbit/s',b'Upload:',b'295.31',b'Mbit/s',2021-04-24 23:25:57\n",
      "\n",
      "b'Ping:',b'7.906',b'ms',b'Download:',b'863.90',b'Mbit/s',b'Upload:',b'295.38',b'Mbit/s',2021-04-24 23:26:07\n",
      "\n",
      "b'Ping:',b'8.571',b'ms',b'Download:',b'152.11',b'Mbit/s',b'Upload:',b'252.56',b'Mbit/s',2021-04-24 23:26:17\n",
      "\n",
      "b'Ping:',b'7.933',b'ms',b'Download:',b'228.07',b'Mbit/s',b'Upload:',b'256.60',b'Mbit/s',2021-04-24 23:26:35\n",
      "\n",
      "b'Ping:',b'6.501',b'ms',b'Download:',b'841.48',b'Mbit/s',b'Upload:',b'255.62',b'Mbit/s',2021-04-24 23:26:52\n",
      "\n",
      "b'Ping:',b'14.531',b'ms',b'Download:',b'233.69',b'Mbit/s',b'Upload:',b'287.70',b'Mbit/s',2021-04-24 23:27:02\n",
      "\n",
      "b'Ping:',b'7.101',b'ms',b'Download:',b'768.68',b'Mbit/s',b'Upload:',b'295.19',b'Mbit/s',2021-04-24 23:27:19\n",
      "\n",
      "b'Ping:',b'7.467',b'ms',b'Download:',b'892.47',b'Mbit/s',b'Upload:',b'295.24',b'Mbit/s',2021-04-24 23:27:30\n",
      "\n",
      "b'Ping:',b'9.228',b'ms',b'Download:',b'175.71',b'Mbit/s',b'Upload:',b'245.06',b'Mbit/s',2021-04-24 23:27:40\n",
      "\n",
      "b'Ping:',b'4.394',b'ms',b'Download:',b'186.16',b'Mbit/s',b'Upload:',b'235.60',b'Mbit/s',2021-04-24 23:27:57\n",
      "\n",
      "b'Ping:',b'7.165',b'ms',b'Download:',b'284.23',b'Mbit/s',b'Upload:',b'274.26',b'Mbit/s',2021-04-24 23:28:15\n",
      "\n",
      "b'Ping:',b'10.838',b'ms',b'Download:',b'845.04',b'Mbit/s',b'Upload:',b'269.06',b'Mbit/s',2021-04-24 23:28:31\n",
      "\n",
      "b'Ping:',b'9.7',b'ms',b'Download:',b'222.61',b'Mbit/s',b'Upload:',b'215.02',b'Mbit/s',2021-04-24 23:28:42\n",
      "\n",
      "b'Ping:',b'6.347',b'ms',b'Download:',b'158.07',b'Mbit/s',b'Upload:',b'274.16',b'Mbit/s',2021-04-24 23:29:00\n",
      "\n",
      "b'Ping:',b'11.036',b'ms',b'Download:',b'183.31',b'Mbit/s',b'Upload:',b'273.41',b'Mbit/s',2021-04-24 23:29:18\n",
      "\n",
      "b'Ping:',b'6.311',b'ms',b'Download:',b'150.41',b'Mbit/s',b'Upload:',b'291.58',b'Mbit/s',2021-04-24 23:29:35\n",
      "\n",
      "b'Ping:',b'9.509',b'ms',b'Download:',b'859.80',b'Mbit/s',b'Upload:',b'295.43',b'Mbit/s',2021-04-24 23:29:51\n",
      "\n",
      "2021-04-24 23:30:02\n",
      "\n",
      "2021-04-24 23:30:07\n",
      "\n",
      "b'Ping:',b'7.667',b'ms',b'Download:',b'120.98',b'Mbit/s',b'Upload:',b'282.94',b'Mbit/s',2021-04-24 23:30:13\n",
      "\n",
      "b'Ping:',b'8.092',b'ms',b'Download:',b'820.31',b'Mbit/s',b'Upload:',b'295.40',b'Mbit/s',2021-04-24 23:30:29\n",
      "\n",
      "b'Ping:',b'14.471',b'ms',b'Download:',b'870.88',b'Mbit/s',b'Upload:',b'275.30',b'Mbit/s',2021-04-24 23:30:39\n",
      "\n",
      "b'Ping:',b'9.797',b'ms',b'Download:',b'160.01',b'Mbit/s',b'Upload:',b'266.08',b'Mbit/s',2021-04-24 23:30:50\n",
      "\n",
      "b'Ping:',b'9.135',b'ms',b'Download:',b'156.43',b'Mbit/s',b'Upload:',b'267.32',b'Mbit/s',2021-04-24 23:31:07\n",
      "\n",
      "b'Ping:',b'4.057',b'ms',b'Download:',b'851.35',b'Mbit/s',b'Upload:',b'282.09',b'Mbit/s',2021-04-24 23:31:24\n",
      "\n",
      "b'Ping:',b'13.042',b'ms',b'Download:',b'772.94',b'Mbit/s',b'Upload:',b'279.88',b'Mbit/s',2021-04-24 23:31:34\n",
      "\n",
      "b'Ping:',b'9.571',b'ms',b'Download:',b'870.91',b'Mbit/s',b'Upload:',b'295.36',b'Mbit/s',2021-04-24 23:31:45\n",
      "\n",
      "b'Ping:',b'4.471',b'ms',b'Download:',b'134.49',b'Mbit/s',b'Upload:',b'279.01',b'Mbit/s',2021-04-24 23:31:55\n",
      "\n",
      "b'Ping:',b'9.25',b'ms',b'Download:',b'178.66',b'Mbit/s',b'Upload:',b'274.86',b'Mbit/s',2021-04-24 23:32:11\n",
      "\n",
      "b'Ping:',b'8.021',b'ms',b'Download:',b'134.32',b'Mbit/s',b'Upload:',b'244.40',b'Mbit/s',2021-04-24 23:32:28\n",
      "\n",
      "b'Ping:',b'8.602',b'ms',b'Download:',b'209.05',b'Mbit/s',b'Upload:',b'228.75',b'Mbit/s',2021-04-24 23:32:45\n",
      "\n",
      "b'Ping:',b'6.956',b'ms',b'Download:',b'847.38',b'Mbit/s',b'Upload:',b'295.31',b'Mbit/s',2021-04-24 23:33:03\n",
      "\n",
      "b'Ping:',b'9.302',b'ms',b'Download:',b'751.47',b'Mbit/s',b'Upload:',b'284.07',b'Mbit/s',2021-04-24 23:33:13\n",
      "\n",
      "b'Ping:',b'8.925',b'ms',b'Download:',b'210.15',b'Mbit/s',b'Upload:',b'260.55',b'Mbit/s',2021-04-24 23:33:24\n",
      "\n",
      "b'Ping:',b'14.42',b'ms',b'Download:',b'149.30',b'Mbit/s',b'Upload:',b'273.10',b'Mbit/s',2021-04-24 23:33:40\n",
      "\n",
      "b'Ping:',b'4.189',b'ms',b'Download:',b'839.02',b'Mbit/s',b'Upload:',b'287.60',b'Mbit/s',2021-04-24 23:33:57\n",
      "\n",
      "b'Ping:',b'8.705',b'ms',b'Download:',b'130.35',b'Mbit/s',b'Upload:',b'273.40',b'Mbit/s',2021-04-24 23:34:08\n",
      "\n",
      "b'Ping:',b'10.571',b'ms',b'Download:',b'186.51',b'Mbit/s',b'Upload:',b'267.52',b'Mbit/s',2021-04-24 23:34:25\n",
      "\n",
      "b'Ping:',b'8.251',b'ms',b'Download:',b'152.51',b'Mbit/s',b'Upload:',b'231.17',b'Mbit/s',2021-04-24 23:34:42\n",
      "\n",
      "b'Ping:',b'8.11',b'ms',b'Download:',b'167.75',b'Mbit/s',b'Upload:',b'283.85',b'Mbit/s',2021-04-24 23:34:59\n",
      "\n",
      "b'Ping:',b'12.137',b'ms',b'Download:',b'201.20',b'Mbit/s',b'Upload:',b'222.44',b'Mbit/s',2021-04-24 23:35:16\n",
      "\n",
      "b'Ping:',b'13.617',b'ms',b'Download:',b'221.68',b'Mbit/s',b'Upload:',b'219.86',b'Mbit/s',2021-04-24 23:35:34\n",
      "\n",
      "b'Ping:',b'9.118',b'ms',b'Download:',b'907.74',b'Mbit/s',b'Upload:',b'295.42',b'Mbit/s',2021-04-24 23:35:52\n",
      "\n",
      "b'Ping:',b'9.118',b'ms',b'Download:',b'202.67',b'Mbit/s',b'Upload:',b'288.22',b'Mbit/s',2021-04-24 23:36:01\n",
      "\n",
      "b'Ping:',b'7.413',b'ms',b'Download:',b'879.17',b'Mbit/s',b'Upload:',b'295.47',b'Mbit/s',2021-04-24 23:36:18\n",
      "\n",
      "b'Ping:',b'10.835',b'ms',b'Download:',b'907.48',b'Mbit/s',b'Upload:',b'295.40',b'Mbit/s',2021-04-24 23:36:28\n",
      "\n",
      "b'Ping:',b'11.374',b'ms',b'Download:',b'880.68',b'Mbit/s',b'Upload:',b'295.38',b'Mbit/s',2021-04-24 23:36:38\n",
      "\n",
      "b'Ping:',b'10.208',b'ms',b'Download:',b'796.98',b'Mbit/s',b'Upload:',b'294.98',b'Mbit/s',2021-04-24 23:36:48\n",
      "\n",
      "b'Ping:',b'6.751',b'ms',b'Download:',b'848.59',b'Mbit/s',b'Upload:',b'294.73',b'Mbit/s',2021-04-24 23:36:59\n",
      "\n",
      "b'Ping:',b'8.163',b'ms',b'Download:',b'820.29',b'Mbit/s',b'Upload:',b'295.44',b'Mbit/s',2021-04-24 23:37:09\n",
      "\n",
      "b'Ping:',b'10.454',b'ms',b'Download:',b'885.81',b'Mbit/s',b'Upload:',b'295.44',b'Mbit/s',2021-04-24 23:37:19\n",
      "\n",
      "b'Ping:',b'8.399',b'ms',b'Download:',b'225.50',b'Mbit/s',b'Upload:',b'266.60',b'Mbit/s',2021-04-24 23:37:29\n",
      "\n",
      "b'Ping:',b'9.844',b'ms',b'Download:',b'863.90',b'Mbit/s',b'Upload:',b'295.35',b'Mbit/s',2021-04-24 23:37:46\n",
      "\n",
      "b'Ping:',b'11.721',b'ms',b'Download:',b'208.64',b'Mbit/s',b'Upload:',b'272.84',b'Mbit/s',2021-04-24 23:37:56\n",
      "\n",
      "b'Ping:',b'5.906',b'ms',b'Download:',b'253.94',b'Mbit/s',b'Upload:',b'281.70',b'Mbit/s',2021-04-24 23:38:13\n",
      "\n",
      "b'Ping:',b'7.45',b'ms',b'Download:',b'899.39',b'Mbit/s',b'Upload:',b'292.04',b'Mbit/s',2021-04-24 23:38:30\n",
      "\n",
      "b'Ping:',b'11.127',b'ms',b'Download:',b'172.63',b'Mbit/s',b'Upload:',b'291.03',b'Mbit/s',2021-04-24 23:38:40\n",
      "\n",
      "b'Ping:',b'9.159',b'ms',b'Download:',b'195.19',b'Mbit/s',b'Upload:',b'294.85',b'Mbit/s',2021-04-24 23:38:57\n",
      "\n",
      "b'Ping:',b'14.582',b'ms',b'Download:',b'158.86',b'Mbit/s',b'Upload:',b'289.04',b'Mbit/s',2021-04-24 23:39:15\n",
      "\n",
      "b'Ping:',b'9.82',b'ms',b'Download:',b'283.21',b'Mbit/s',b'Upload:',b'295.21',b'Mbit/s',2021-04-24 23:39:33\n",
      "\n",
      "b'Ping:',b'7.021',b'ms',b'Download:',b'243.24',b'Mbit/s',b'Upload:',b'277.18',b'Mbit/s',2021-04-24 23:39:50\n",
      "\n",
      "b'Ping:',b'13.582',b'ms',b'Download:',b'881.80',b'Mbit/s',b'Upload:',b'295.40',b'Mbit/s',2021-04-24 23:40:07\n",
      "\n",
      "b'Ping:',b'11.139',b'ms',b'Download:',b'202.17',b'Mbit/s',b'Upload:',b'259.77',b'Mbit/s',2021-04-24 23:40:17\n",
      "\n",
      "b'Ping:',b'6.459',b'ms',b'Download:',b'179.41',b'Mbit/s',b'Upload:',b'140.90',b'Mbit/s',2021-04-24 23:40:34\n",
      "\n",
      "b'Ping:',b'8.596',b'ms',b'Download:',b'324.01',b'Mbit/s',b'Upload:',b'260.32',b'Mbit/s',2021-04-24 23:40:55\n",
      "\n",
      "b'Ping:',b'11.321',b'ms',b'Download:',b'318.43',b'Mbit/s',b'Upload:',b'254.29',b'Mbit/s',2021-04-24 23:41:12\n",
      "\n",
      "b'Ping:',b'6.59',b'ms',b'Download:',b'907.87',b'Mbit/s',b'Upload:',b'295.45',b'Mbit/s',2021-04-24 23:41:29\n",
      "\n",
      "b'Ping:',b'6.886',b'ms',b'Download:',b'839.09',b'Mbit/s',b'Upload:',b'295.38',b'Mbit/s',2021-04-24 23:41:39\n",
      "\n",
      "b'Ping:',b'9.068',b'ms',b'Download:',b'71.74',b'Mbit/s',b'Upload:',b'284.14',b'Mbit/s',2021-04-24 23:41:49\n",
      "\n",
      "b'Ping:',b'9.209',b'ms',b'Download:',b'837.45',b'Mbit/s',b'Upload:',b'295.47',b'Mbit/s',2021-04-24 23:42:06\n",
      "\n",
      "b'Ping:',b'9.341',b'ms',b'Download:',b'829.92',b'Mbit/s',b'Upload:',b'295.44',b'Mbit/s',2021-04-24 23:42:16\n",
      "\n",
      "b'Ping:',b'9.904',b'ms',b'Download:',b'867.60',b'Mbit/s',b'Upload:',b'295.38',b'Mbit/s',2021-04-24 23:42:26\n",
      "\n",
      "b'Ping:',b'6.985',b'ms',b'Download:',b'852.18',b'Mbit/s',b'Upload:',b'295.37',b'Mbit/s',2021-04-24 23:42:36\n",
      "\n",
      "b'Ping:',b'8.985',b'ms',b'Download:',b'89.55',b'Mbit/s',b'Upload:',b'251.41',b'Mbit/s',2021-04-24 23:42:47\n",
      "\n",
      "b'Ping:',b'13.043',b'ms',b'Download:',b'894.70',b'Mbit/s',b'Upload:',b'266.99',b'Mbit/s',2021-04-24 23:43:04\n",
      "\n",
      "b'Ping:',b'11.432',b'ms',b'Download:',b'893.17',b'Mbit/s',b'Upload:',b'295.47',b'Mbit/s',2021-04-24 23:43:14\n",
      "\n",
      "b'Ping:',b'10.377',b'ms',b'Download:',b'867.78',b'Mbit/s',b'Upload:',b'266.58',b'Mbit/s',2021-04-24 23:43:24\n",
      "\n",
      "b'Ping:',b'8.354',b'ms',b'Download:',b'95.54',b'Mbit/s',b'Upload:',b'256.34',b'Mbit/s',2021-04-24 23:43:35\n",
      "\n",
      "b'Ping:',b'3.857',b'ms',b'Download:',b'881.21',b'Mbit/s',b'Upload:',b'293.20',b'Mbit/s',2021-04-24 23:43:53\n",
      "\n",
      "b'Ping:',b'5.09',b'ms',b'Download:',b'61.83',b'Mbit/s',b'Upload:',b'271.96',b'Mbit/s',2021-04-24 23:44:03\n",
      "\n",
      "b'Ping:',b'8.346',b'ms',b'Download:',b'866.23',b'Mbit/s',b'Upload:',b'295.41',b'Mbit/s',2021-04-24 23:44:25\n",
      "\n",
      "b'Ping:',b'7.085',b'ms',b'Download:',b'124.72',b'Mbit/s',b'Upload:',b'259.39',b'Mbit/s',2021-04-24 23:44:36\n",
      "\n",
      "b'Ping:',b'6.412',b'ms',b'Download:',b'736.45',b'Mbit/s',b'Upload:',b'295.14',b'Mbit/s',2021-04-24 23:44:53\n",
      "\n",
      "b'Ping:',b'9.149',b'ms',b'Download:',b'101.39',b'Mbit/s',b'Upload:',b'279.71',b'Mbit/s',2021-04-24 23:45:03\n",
      "\n",
      "b'Ping:',b'11.735',b'ms',b'Download:',b'873.10',b'Mbit/s',b'Upload:',b'283.50',b'Mbit/s',2021-04-24 23:45:20\n",
      "\n",
      "b'Ping:',b'6.049',b'ms',b'Download:',b'826.94',b'Mbit/s',b'Upload:',b'294.98',b'Mbit/s',2021-04-24 23:45:30\n",
      "\n",
      "b'Ping:',b'10.567',b'ms',b'Download:',b'38.82',b'Mbit/s',b'Upload:',b'270.94',b'Mbit/s',2021-04-24 23:45:41\n",
      "\n",
      "b'Ping:',b'9.1',b'ms',b'Download:',b'877.24',b'Mbit/s',b'Upload:',b'295.03',b'Mbit/s',2021-04-24 23:45:57\n",
      "\n",
      "b'Ping:',b'9.172',b'ms',b'Download:',b'106.19',b'Mbit/s',b'Upload:',b'269.11',b'Mbit/s',2021-04-24 23:46:07\n",
      "\n",
      "b'Ping:',b'3.782',b'ms',b'Download:',b'87.55',b'Mbit/s',b'Upload:',b'290.07',b'Mbit/s',2021-04-24 23:46:24\n",
      "\n",
      "b'Ping:',b'7.797',b'ms',b'Download:',b'100.16',b'Mbit/s',b'Upload:',b'274.27',b'Mbit/s',2021-04-24 23:46:43\n",
      "\n",
      "b'Ping:',b'10.191',b'ms',b'Download:',b'89.04',b'Mbit/s',b'Upload:',b'287.55',b'Mbit/s',2021-04-24 23:47:01\n",
      "\n",
      "b'Ping:',b'3.837',b'ms',b'Download:',b'910.67',b'Mbit/s',b'Upload:',b'295.39',b'Mbit/s',2021-04-24 23:47:18\n",
      "\n",
      "b'Ping:',b'9.475',b'ms',b'Download:',b'892.91',b'Mbit/s',b'Upload:',b'295.42',b'Mbit/s',2021-04-24 23:47:28\n",
      "\n",
      "b'Ping:',b'7.189',b'ms',b'Download:',b'883.14',b'Mbit/s',b'Upload:',b'295.35',b'Mbit/s',2021-04-24 23:47:38\n",
      "\n"
     ]
    }
   ],
   "source": [
    "# Code cell 21\n",
    "!type .\\Data\\rpi_data_long.csv"
   ]
  },
  {
   "cell_type": "code",
   "execution_count": 29,
   "metadata": {
    "collapsed": true
   },
   "outputs": [],
   "source": [
    "# Code cell 22\n",
    "column_names = [ 'Type A', 'Measure A', 'Units A',\n",
    "                 'Type B', 'Measure B', 'Units B',\n",
    "                 'Type C', 'Measure C', 'Units C', \n",
    "                 'Datetime']"
   ]
  },
  {
   "cell_type": "code",
   "execution_count": 30,
   "metadata": {
    "collapsed": true
   },
   "outputs": [],
   "source": [
    "# Code cell 23\n",
    "with open(data_file, 'r') as f:\n",
    "    df_redundant = pd.read_csv(f, names = column_names)"
   ]
  },
  {
   "cell_type": "code",
   "execution_count": 32,
   "metadata": {
    "collapsed": true
   },
   "outputs": [
    {
     "data": {
      "text/plain": "     Type A Measure A Units A        Type B  Measure B    Units B      Type C  \\\n0  b'Ping:'  b'3.787'   b'ms'  b'Download:'  b'217.92'  b'Mbit/s'  b'Upload:'   \n1  b'Ping:'  b'7.752'   b'ms'  b'Download:'  b'143.16'  b'Mbit/s'  b'Upload:'   \n2  b'Ping:'  b'10.07'   b'ms'  b'Download:'  b'858.17'  b'Mbit/s'  b'Upload:'   \n3  b'Ping:'  b'7.897'   b'ms'  b'Download:'  b'906.13'  b'Mbit/s'  b'Upload:'   \n4  b'Ping:'  b'3.376'   b'ms'  b'Download:'  b'764.77'  b'Mbit/s'  b'Upload:'   \n\n   Measure C    Units C             Datetime  \n0  b'276.08'  b'Mbit/s'  2021-04-24 23:24:53  \n1  b'283.43'  b'Mbit/s'  2021-04-24 23:25:10  \n2  b'295.38'  b'Mbit/s'  2021-04-24 23:25:27  \n3  b'295.34'  b'Mbit/s'  2021-04-24 23:25:37  \n4  b'295.37'  b'Mbit/s'  2021-04-24 23:25:47  ",
      "text/html": "<div>\n<style scoped>\n    .dataframe tbody tr th:only-of-type {\n        vertical-align: middle;\n    }\n\n    .dataframe tbody tr th {\n        vertical-align: top;\n    }\n\n    .dataframe thead th {\n        text-align: right;\n    }\n</style>\n<table border=\"1\" class=\"dataframe\">\n  <thead>\n    <tr style=\"text-align: right;\">\n      <th></th>\n      <th>Type A</th>\n      <th>Measure A</th>\n      <th>Units A</th>\n      <th>Type B</th>\n      <th>Measure B</th>\n      <th>Units B</th>\n      <th>Type C</th>\n      <th>Measure C</th>\n      <th>Units C</th>\n      <th>Datetime</th>\n    </tr>\n  </thead>\n  <tbody>\n    <tr>\n      <th>0</th>\n      <td>b'Ping:'</td>\n      <td>b'3.787'</td>\n      <td>b'ms'</td>\n      <td>b'Download:'</td>\n      <td>b'217.92'</td>\n      <td>b'Mbit/s'</td>\n      <td>b'Upload:'</td>\n      <td>b'276.08'</td>\n      <td>b'Mbit/s'</td>\n      <td>2021-04-24 23:24:53</td>\n    </tr>\n    <tr>\n      <th>1</th>\n      <td>b'Ping:'</td>\n      <td>b'7.752'</td>\n      <td>b'ms'</td>\n      <td>b'Download:'</td>\n      <td>b'143.16'</td>\n      <td>b'Mbit/s'</td>\n      <td>b'Upload:'</td>\n      <td>b'283.43'</td>\n      <td>b'Mbit/s'</td>\n      <td>2021-04-24 23:25:10</td>\n    </tr>\n    <tr>\n      <th>2</th>\n      <td>b'Ping:'</td>\n      <td>b'10.07'</td>\n      <td>b'ms'</td>\n      <td>b'Download:'</td>\n      <td>b'858.17'</td>\n      <td>b'Mbit/s'</td>\n      <td>b'Upload:'</td>\n      <td>b'295.38'</td>\n      <td>b'Mbit/s'</td>\n      <td>2021-04-24 23:25:27</td>\n    </tr>\n    <tr>\n      <th>3</th>\n      <td>b'Ping:'</td>\n      <td>b'7.897'</td>\n      <td>b'ms'</td>\n      <td>b'Download:'</td>\n      <td>b'906.13'</td>\n      <td>b'Mbit/s'</td>\n      <td>b'Upload:'</td>\n      <td>b'295.34'</td>\n      <td>b'Mbit/s'</td>\n      <td>2021-04-24 23:25:37</td>\n    </tr>\n    <tr>\n      <th>4</th>\n      <td>b'Ping:'</td>\n      <td>b'3.376'</td>\n      <td>b'ms'</td>\n      <td>b'Download:'</td>\n      <td>b'764.77'</td>\n      <td>b'Mbit/s'</td>\n      <td>b'Upload:'</td>\n      <td>b'295.37'</td>\n      <td>b'Mbit/s'</td>\n      <td>2021-04-24 23:25:47</td>\n    </tr>\n  </tbody>\n</table>\n</div>"
     },
     "execution_count": 32,
     "metadata": {},
     "output_type": "execute_result"
    }
   ],
   "source": [
    "# Code cell 24\n",
    "df_redundant.head()"
   ]
  },
  {
   "cell_type": "code",
   "execution_count": 33,
   "metadata": {
    "collapsed": true
   },
   "outputs": [],
   "source": [
    "# Code cell 25\n",
    "df_compact = df_redundant.copy()"
   ]
  },
  {
   "cell_type": "code",
   "execution_count": 34,
   "metadata": {
    "collapsed": true,
    "scrolled": true
   },
   "outputs": [
    {
     "data": {
      "text/plain": "     Type A Ping (ms) Units A        Type B Download (Mbit/s)    Units B  \\\n0  b'Ping:'  b'3.787'   b'ms'  b'Download:'         b'217.92'  b'Mbit/s'   \n1  b'Ping:'  b'7.752'   b'ms'  b'Download:'         b'143.16'  b'Mbit/s'   \n2  b'Ping:'  b'10.07'   b'ms'  b'Download:'         b'858.17'  b'Mbit/s'   \n\n       Type C Upload (Mbit/s)    Units C             Datetime  \n0  b'Upload:'       b'276.08'  b'Mbit/s'  2021-04-24 23:24:53  \n1  b'Upload:'       b'283.43'  b'Mbit/s'  2021-04-24 23:25:10  \n2  b'Upload:'       b'295.38'  b'Mbit/s'  2021-04-24 23:25:27  ",
      "text/html": "<div>\n<style scoped>\n    .dataframe tbody tr th:only-of-type {\n        vertical-align: middle;\n    }\n\n    .dataframe tbody tr th {\n        vertical-align: top;\n    }\n\n    .dataframe thead th {\n        text-align: right;\n    }\n</style>\n<table border=\"1\" class=\"dataframe\">\n  <thead>\n    <tr style=\"text-align: right;\">\n      <th></th>\n      <th>Type A</th>\n      <th>Ping (ms)</th>\n      <th>Units A</th>\n      <th>Type B</th>\n      <th>Download (Mbit/s)</th>\n      <th>Units B</th>\n      <th>Type C</th>\n      <th>Upload (Mbit/s)</th>\n      <th>Units C</th>\n      <th>Datetime</th>\n    </tr>\n  </thead>\n  <tbody>\n    <tr>\n      <th>0</th>\n      <td>b'Ping:'</td>\n      <td>b'3.787'</td>\n      <td>b'ms'</td>\n      <td>b'Download:'</td>\n      <td>b'217.92'</td>\n      <td>b'Mbit/s'</td>\n      <td>b'Upload:'</td>\n      <td>b'276.08'</td>\n      <td>b'Mbit/s'</td>\n      <td>2021-04-24 23:24:53</td>\n    </tr>\n    <tr>\n      <th>1</th>\n      <td>b'Ping:'</td>\n      <td>b'7.752'</td>\n      <td>b'ms'</td>\n      <td>b'Download:'</td>\n      <td>b'143.16'</td>\n      <td>b'Mbit/s'</td>\n      <td>b'Upload:'</td>\n      <td>b'283.43'</td>\n      <td>b'Mbit/s'</td>\n      <td>2021-04-24 23:25:10</td>\n    </tr>\n    <tr>\n      <th>2</th>\n      <td>b'Ping:'</td>\n      <td>b'10.07'</td>\n      <td>b'ms'</td>\n      <td>b'Download:'</td>\n      <td>b'858.17'</td>\n      <td>b'Mbit/s'</td>\n      <td>b'Upload:'</td>\n      <td>b'295.38'</td>\n      <td>b'Mbit/s'</td>\n      <td>2021-04-24 23:25:27</td>\n    </tr>\n  </tbody>\n</table>\n</div>"
     },
     "execution_count": 34,
     "metadata": {},
     "output_type": "execute_result"
    }
   ],
   "source": [
    "# Code cell 26\n",
    "df_compact.rename(columns={'Measure A':'Ping (ms)', \n",
    "                           'Measure B': 'Download (Mbit/s)',\n",
    "                           'Measure C': 'Upload (Mbit/s)'}, inplace=True)\n",
    "df_compact.head(3)"
   ]
  },
  {
   "cell_type": "code",
   "execution_count": 35,
   "metadata": {
    "collapsed": true
   },
   "outputs": [
    {
     "data": {
      "text/plain": "  Ping (ms) Download (Mbit/s) Upload (Mbit/s)             Datetime\n0  b'3.787'         b'217.92'       b'276.08'  2021-04-24 23:24:53\n1  b'7.752'         b'143.16'       b'283.43'  2021-04-24 23:25:10\n2  b'10.07'         b'858.17'       b'295.38'  2021-04-24 23:25:27\n3  b'7.897'         b'906.13'       b'295.34'  2021-04-24 23:25:37\n4  b'3.376'         b'764.77'       b'295.37'  2021-04-24 23:25:47",
      "text/html": "<div>\n<style scoped>\n    .dataframe tbody tr th:only-of-type {\n        vertical-align: middle;\n    }\n\n    .dataframe tbody tr th {\n        vertical-align: top;\n    }\n\n    .dataframe thead th {\n        text-align: right;\n    }\n</style>\n<table border=\"1\" class=\"dataframe\">\n  <thead>\n    <tr style=\"text-align: right;\">\n      <th></th>\n      <th>Ping (ms)</th>\n      <th>Download (Mbit/s)</th>\n      <th>Upload (Mbit/s)</th>\n      <th>Datetime</th>\n    </tr>\n  </thead>\n  <tbody>\n    <tr>\n      <th>0</th>\n      <td>b'3.787'</td>\n      <td>b'217.92'</td>\n      <td>b'276.08'</td>\n      <td>2021-04-24 23:24:53</td>\n    </tr>\n    <tr>\n      <th>1</th>\n      <td>b'7.752'</td>\n      <td>b'143.16'</td>\n      <td>b'283.43'</td>\n      <td>2021-04-24 23:25:10</td>\n    </tr>\n    <tr>\n      <th>2</th>\n      <td>b'10.07'</td>\n      <td>b'858.17'</td>\n      <td>b'295.38'</td>\n      <td>2021-04-24 23:25:27</td>\n    </tr>\n    <tr>\n      <th>3</th>\n      <td>b'7.897'</td>\n      <td>b'906.13'</td>\n      <td>b'295.34'</td>\n      <td>2021-04-24 23:25:37</td>\n    </tr>\n    <tr>\n      <th>4</th>\n      <td>b'3.376'</td>\n      <td>b'764.77'</td>\n      <td>b'295.37'</td>\n      <td>2021-04-24 23:25:47</td>\n    </tr>\n  </tbody>\n</table>\n</div>"
     },
     "execution_count": 35,
     "metadata": {},
     "output_type": "execute_result"
    }
   ],
   "source": [
    "# Code cell 27\n",
    "df_compact.drop(['Type A', 'Type B', 'Type C',\n",
    "         'Units A', 'Units B', 'Units C'], axis=1, inplace=True)\n",
    "df_compact.head()"
   ]
  },
  {
   "cell_type": "code",
   "execution_count": 36,
   "metadata": {
    "collapsed": true
   },
   "outputs": [],
   "source": [
    "# Code cell 28\n",
    "df_compact['Date'] = df_compact['Datetime'].apply(lambda dt_str: pd.to_datetime(dt_str).date())"
   ]
  },
  {
   "cell_type": "code",
   "execution_count": 37,
   "metadata": {
    "collapsed": true
   },
   "outputs": [],
   "source": [
    "# Code cell 29\n",
    "temp = df_compact['Datetime'].apply(lambda dt_str: pd.to_datetime(dt_str))\n",
    "df_compact['Time'] = temp.dt.time"
   ]
  },
  {
   "cell_type": "code",
   "execution_count": 38,
   "metadata": {
    "collapsed": true
   },
   "outputs": [],
   "source": [
    "# Code cell 30\n",
    "df_compact.drop(['Datetime'], axis=1, inplace=True)"
   ]
  },
  {
   "cell_type": "code",
   "execution_count": 39,
   "metadata": {
    "collapsed": true
   },
   "outputs": [
    {
     "data": {
      "text/plain": "  Ping (ms) Download (Mbit/s) Upload (Mbit/s)        Date      Time\n0  b'3.787'         b'217.92'       b'276.08'  2021-04-24  23:24:53\n1  b'7.752'         b'143.16'       b'283.43'  2021-04-24  23:25:10\n2  b'10.07'         b'858.17'       b'295.38'  2021-04-24  23:25:27",
      "text/html": "<div>\n<style scoped>\n    .dataframe tbody tr th:only-of-type {\n        vertical-align: middle;\n    }\n\n    .dataframe tbody tr th {\n        vertical-align: top;\n    }\n\n    .dataframe thead th {\n        text-align: right;\n    }\n</style>\n<table border=\"1\" class=\"dataframe\">\n  <thead>\n    <tr style=\"text-align: right;\">\n      <th></th>\n      <th>Ping (ms)</th>\n      <th>Download (Mbit/s)</th>\n      <th>Upload (Mbit/s)</th>\n      <th>Date</th>\n      <th>Time</th>\n    </tr>\n  </thead>\n  <tbody>\n    <tr>\n      <th>0</th>\n      <td>b'3.787'</td>\n      <td>b'217.92'</td>\n      <td>b'276.08'</td>\n      <td>2021-04-24</td>\n      <td>23:24:53</td>\n    </tr>\n    <tr>\n      <th>1</th>\n      <td>b'7.752'</td>\n      <td>b'143.16'</td>\n      <td>b'283.43'</td>\n      <td>2021-04-24</td>\n      <td>23:25:10</td>\n    </tr>\n    <tr>\n      <th>2</th>\n      <td>b'10.07'</td>\n      <td>b'858.17'</td>\n      <td>b'295.38'</td>\n      <td>2021-04-24</td>\n      <td>23:25:27</td>\n    </tr>\n  </tbody>\n</table>\n</div>"
     },
     "execution_count": 39,
     "metadata": {},
     "output_type": "execute_result"
    }
   ],
   "source": [
    "# Code cell 31\n",
    "df_compact.head(3)"
   ]
  },
  {
   "cell_type": "code",
   "execution_count": 40,
   "metadata": {
    "collapsed": true
   },
   "outputs": [
    {
     "name": "stdout",
     "output_type": "stream",
     "text": [
      "2021-04-24 <class 'datetime.date'>\n",
      "23:24:53 <class 'datetime.time'>\n"
     ]
    }
   ],
   "source": [
    "# Code cell 32\n",
    "print(df_compact['Date'][0], type(df_compact['Date'][0]) )\n",
    "print(df_compact['Time'][0], type(df_compact['Time'][0]) )"
   ]
  },
  {
   "cell_type": "code",
   "execution_count": 42,
   "metadata": {
    "collapsed": true,
    "pycharm": {
     "name": "#%%\n"
    }
   },
   "outputs": [],
   "source": [
    "# Code cell 33\n",
    "df_compact.to_csv('./Data/rpi_data_compact.csv')"
   ]
  }
 ],
 "metadata": {
  "anaconda-cloud": {},
  "kernelspec": {
   "display_name": "Python 3",
   "language": "python",
   "name": "python3"
  },
  "language_info": {
   "codemirror_mode": {
    "name": "ipython",
    "version": 3
   },
   "file_extension": ".py",
   "mimetype": "text/x-python",
   "name": "python",
   "nbconvert_exporter": "python",
   "pygments_lexer": "ipython3",
   "version": "3.7.3"
  }
 },
 "nbformat": 4,
 "nbformat_minor": 1
}